{
 "cells": [
  {
   "cell_type": "markdown",
   "metadata": {},
   "source": [
    "# Проект по А/B-тестированию"
   ]
  },
  {
   "cell_type": "markdown",
   "metadata": {},
   "source": [
    "## Подготовка данных"
   ]
  },
  {
   "cell_type": "code",
   "execution_count": 1,
   "metadata": {},
   "outputs": [],
   "source": [
    "# Импорт необходимых библиотек\n",
    "import pandas as pd\n",
    "import numpy as np\n",
    "import matplotlib.pyplot as plt\n",
    "import seaborn as sns\n",
    "from statsmodels.stats.proportion import proportions_ztest\n",
    "from statsmodels.stats.multitest import multipletests"
   ]
  },
  {
   "cell_type": "code",
   "execution_count": 2,
   "metadata": {},
   "outputs": [],
   "source": [
    "# Загрузка данных\n",
    "marketing_events = pd.read_csv('/datasets/ab_project_marketing_events.csv')\n",
    "new_users = pd.read_csv('/datasets/final_ab_new_users.csv')\n",
    "events = pd.read_csv('/datasets/final_ab_events.csv')\n",
    "participants = pd.read_csv('/datasets/final_ab_participants.csv')"
   ]
  },
  {
   "cell_type": "code",
   "execution_count": 3,
   "metadata": {},
   "outputs": [
    {
     "name": "stdout",
     "output_type": "stream",
     "text": [
      "Проект по A/B-тестированию: Оценка результатов рекомендательной системы\n",
      "Цель: Проверить корректность проведения A/B-теста и проанализировать его результаты.\n",
      "Задачи:\n",
      "- Проверить отсутствие пересечений с конкурирующими тестами и участников в двух группах.\n",
      "- Проверить равномерность распределения пользователей в группах A и B.\n",
      "- Оценить, достигнуто ли улучшение каждой метрики на 10% за 14 дней.\n",
      "- Проанализировать результаты и определить бизнес-перспективы изменений.\n",
      "\n",
      "\n"
     ]
    }
   ],
   "source": [
    "# Описание проекта\n",
    "print(\"Проект по A/B-тестированию: Оценка результатов рекомендательной системы\")\n",
    "print(\"Цель: Проверить корректность проведения A/B-теста и проанализировать его результаты.\")\n",
    "print(\"Задачи:\")\n",
    "print(\"- Проверить отсутствие пересечений с конкурирующими тестами и участников в двух группах.\")\n",
    "print(\"- Проверить равномерность распределения пользователей в группах A и B.\")\n",
    "print(\"- Оценить, достигнуто ли улучшение каждой метрики на 10% за 14 дней.\")\n",
    "print(\"- Проанализировать результаты и определить бизнес-перспективы изменений.\")\n",
    "print(\"\\n\")"
   ]
  },
  {
   "cell_type": "code",
   "execution_count": 4,
   "metadata": {},
   "outputs": [
    {
     "name": "stdout",
     "output_type": "stream",
     "text": [
      "Информация о marketing_events:\n",
      "<class 'pandas.core.frame.DataFrame'>\n",
      "RangeIndex: 14 entries, 0 to 13\n",
      "Data columns (total 4 columns):\n",
      " #   Column     Non-Null Count  Dtype \n",
      "---  ------     --------------  ----- \n",
      " 0   name       14 non-null     object\n",
      " 1   regions    14 non-null     object\n",
      " 2   start_dt   14 non-null     object\n",
      " 3   finish_dt  14 non-null     object\n",
      "dtypes: object(4)\n",
      "memory usage: 576.0+ bytes\n",
      "None\n",
      "\n",
      "Информация о new_users:\n",
      "<class 'pandas.core.frame.DataFrame'>\n",
      "RangeIndex: 61733 entries, 0 to 61732\n",
      "Data columns (total 4 columns):\n",
      " #   Column      Non-Null Count  Dtype \n",
      "---  ------      --------------  ----- \n",
      " 0   user_id     61733 non-null  object\n",
      " 1   first_date  61733 non-null  object\n",
      " 2   region      61733 non-null  object\n",
      " 3   device      61733 non-null  object\n",
      "dtypes: object(4)\n",
      "memory usage: 1.9+ MB\n",
      "None\n",
      "\n",
      "Информация о events:\n",
      "<class 'pandas.core.frame.DataFrame'>\n",
      "RangeIndex: 440317 entries, 0 to 440316\n",
      "Data columns (total 4 columns):\n",
      " #   Column      Non-Null Count   Dtype  \n",
      "---  ------      --------------   -----  \n",
      " 0   user_id     440317 non-null  object \n",
      " 1   event_dt    440317 non-null  object \n",
      " 2   event_name  440317 non-null  object \n",
      " 3   details     62740 non-null   float64\n",
      "dtypes: float64(1), object(3)\n",
      "memory usage: 13.4+ MB\n",
      "None\n",
      "\n",
      "Информация о participants:\n",
      "<class 'pandas.core.frame.DataFrame'>\n",
      "RangeIndex: 18268 entries, 0 to 18267\n",
      "Data columns (total 3 columns):\n",
      " #   Column   Non-Null Count  Dtype \n",
      "---  ------   --------------  ----- \n",
      " 0   user_id  18268 non-null  object\n",
      " 1   group    18268 non-null  object\n",
      " 2   ab_test  18268 non-null  object\n",
      "dtypes: object(3)\n",
      "memory usage: 428.3+ KB\n",
      "None\n"
     ]
    }
   ],
   "source": [
    "# Вывод общей информации о каждом датасете\n",
    "print(\"Информация о marketing_events:\")\n",
    "print(marketing_events.info())\n",
    "\n",
    "print(\"\\nИнформация о new_users:\")\n",
    "print(new_users.info())\n",
    "\n",
    "print(\"\\nИнформация о events:\")\n",
    "print(events.info())\n",
    "\n",
    "print(\"\\nИнформация о participants:\")\n",
    "print(participants.info())"
   ]
  },
  {
   "cell_type": "code",
   "execution_count": 5,
   "metadata": {},
   "outputs": [
    {
     "name": "stdout",
     "output_type": "stream",
     "text": [
      "Датасеты:\n",
      "- marketing_events: Календарь маркетинговых событий на 2020 год.\n",
      "- new_users: Пользователи, зарегистрировавшиеся с 7 по 21 декабря 2020 года.\n",
      "- events: События новых пользователей с 7 декабря 2020 по 4 января 2021 года.\n",
      "- participants: Таблица участников тестов.\n",
      "\n",
      "\n"
     ]
    }
   ],
   "source": [
    "# Описание датасетов\n",
    "print(\"Датасеты:\")\n",
    "print(\"- marketing_events: Календарь маркетинговых событий на 2020 год.\")\n",
    "print(\"- new_users: Пользователи, зарегистрировавшиеся с 7 по 21 декабря 2020 года.\")\n",
    "print(\"- events: События новых пользователей с 7 декабря 2020 по 4 января 2021 года.\")\n",
    "print(\"- participants: Таблица участников тестов.\")\n",
    "print(\"\\n\")"
   ]
  },
  {
   "cell_type": "code",
   "execution_count": 6,
   "metadata": {},
   "outputs": [
    {
     "name": "stdout",
     "output_type": "stream",
     "text": [
      "Примеры данных:\n",
      "- Пример данных из marketing_events:\n"
     ]
    },
    {
     "data": {
      "text/html": [
       "<div>\n",
       "<style scoped>\n",
       "    .dataframe tbody tr th:only-of-type {\n",
       "        vertical-align: middle;\n",
       "    }\n",
       "\n",
       "    .dataframe tbody tr th {\n",
       "        vertical-align: top;\n",
       "    }\n",
       "\n",
       "    .dataframe thead th {\n",
       "        text-align: right;\n",
       "    }\n",
       "</style>\n",
       "<table border=\"1\" class=\"dataframe\">\n",
       "  <thead>\n",
       "    <tr style=\"text-align: right;\">\n",
       "      <th></th>\n",
       "      <th>name</th>\n",
       "      <th>regions</th>\n",
       "      <th>start_dt</th>\n",
       "      <th>finish_dt</th>\n",
       "    </tr>\n",
       "  </thead>\n",
       "  <tbody>\n",
       "    <tr>\n",
       "      <th>0</th>\n",
       "      <td>Christmas&amp;New Year Promo</td>\n",
       "      <td>EU, N.America</td>\n",
       "      <td>2020-12-25</td>\n",
       "      <td>2021-01-03</td>\n",
       "    </tr>\n",
       "    <tr>\n",
       "      <th>1</th>\n",
       "      <td>St. Valentine's Day Giveaway</td>\n",
       "      <td>EU, CIS, APAC, N.America</td>\n",
       "      <td>2020-02-14</td>\n",
       "      <td>2020-02-16</td>\n",
       "    </tr>\n",
       "    <tr>\n",
       "      <th>2</th>\n",
       "      <td>St. Patric's Day Promo</td>\n",
       "      <td>EU, N.America</td>\n",
       "      <td>2020-03-17</td>\n",
       "      <td>2020-03-19</td>\n",
       "    </tr>\n",
       "    <tr>\n",
       "      <th>3</th>\n",
       "      <td>Easter Promo</td>\n",
       "      <td>EU, CIS, APAC, N.America</td>\n",
       "      <td>2020-04-12</td>\n",
       "      <td>2020-04-19</td>\n",
       "    </tr>\n",
       "    <tr>\n",
       "      <th>4</th>\n",
       "      <td>4th of July Promo</td>\n",
       "      <td>N.America</td>\n",
       "      <td>2020-07-04</td>\n",
       "      <td>2020-07-11</td>\n",
       "    </tr>\n",
       "  </tbody>\n",
       "</table>\n",
       "</div>"
      ],
      "text/plain": [
       "                           name                   regions    start_dt  \\\n",
       "0      Christmas&New Year Promo             EU, N.America  2020-12-25   \n",
       "1  St. Valentine's Day Giveaway  EU, CIS, APAC, N.America  2020-02-14   \n",
       "2        St. Patric's Day Promo             EU, N.America  2020-03-17   \n",
       "3                  Easter Promo  EU, CIS, APAC, N.America  2020-04-12   \n",
       "4             4th of July Promo                 N.America  2020-07-04   \n",
       "\n",
       "    finish_dt  \n",
       "0  2021-01-03  \n",
       "1  2020-02-16  \n",
       "2  2020-03-19  \n",
       "3  2020-04-19  \n",
       "4  2020-07-11  "
      ]
     },
     "metadata": {},
     "output_type": "display_data"
    },
    {
     "name": "stdout",
     "output_type": "stream",
     "text": [
      "\n",
      "- Пример данных из new_users:\n"
     ]
    },
    {
     "data": {
      "text/html": [
       "<div>\n",
       "<style scoped>\n",
       "    .dataframe tbody tr th:only-of-type {\n",
       "        vertical-align: middle;\n",
       "    }\n",
       "\n",
       "    .dataframe tbody tr th {\n",
       "        vertical-align: top;\n",
       "    }\n",
       "\n",
       "    .dataframe thead th {\n",
       "        text-align: right;\n",
       "    }\n",
       "</style>\n",
       "<table border=\"1\" class=\"dataframe\">\n",
       "  <thead>\n",
       "    <tr style=\"text-align: right;\">\n",
       "      <th></th>\n",
       "      <th>user_id</th>\n",
       "      <th>first_date</th>\n",
       "      <th>region</th>\n",
       "      <th>device</th>\n",
       "    </tr>\n",
       "  </thead>\n",
       "  <tbody>\n",
       "    <tr>\n",
       "      <th>0</th>\n",
       "      <td>D72A72121175D8BE</td>\n",
       "      <td>2020-12-07</td>\n",
       "      <td>EU</td>\n",
       "      <td>PC</td>\n",
       "    </tr>\n",
       "    <tr>\n",
       "      <th>1</th>\n",
       "      <td>F1C668619DFE6E65</td>\n",
       "      <td>2020-12-07</td>\n",
       "      <td>N.America</td>\n",
       "      <td>Android</td>\n",
       "    </tr>\n",
       "    <tr>\n",
       "      <th>2</th>\n",
       "      <td>2E1BF1D4C37EA01F</td>\n",
       "      <td>2020-12-07</td>\n",
       "      <td>EU</td>\n",
       "      <td>PC</td>\n",
       "    </tr>\n",
       "    <tr>\n",
       "      <th>3</th>\n",
       "      <td>50734A22C0C63768</td>\n",
       "      <td>2020-12-07</td>\n",
       "      <td>EU</td>\n",
       "      <td>iPhone</td>\n",
       "    </tr>\n",
       "    <tr>\n",
       "      <th>4</th>\n",
       "      <td>E1BDDCE0DAFA2679</td>\n",
       "      <td>2020-12-07</td>\n",
       "      <td>N.America</td>\n",
       "      <td>iPhone</td>\n",
       "    </tr>\n",
       "  </tbody>\n",
       "</table>\n",
       "</div>"
      ],
      "text/plain": [
       "            user_id  first_date     region   device\n",
       "0  D72A72121175D8BE  2020-12-07         EU       PC\n",
       "1  F1C668619DFE6E65  2020-12-07  N.America  Android\n",
       "2  2E1BF1D4C37EA01F  2020-12-07         EU       PC\n",
       "3  50734A22C0C63768  2020-12-07         EU   iPhone\n",
       "4  E1BDDCE0DAFA2679  2020-12-07  N.America   iPhone"
      ]
     },
     "metadata": {},
     "output_type": "display_data"
    },
    {
     "name": "stdout",
     "output_type": "stream",
     "text": [
      "\n",
      "- Пример данных из events:\n"
     ]
    },
    {
     "data": {
      "text/html": [
       "<div>\n",
       "<style scoped>\n",
       "    .dataframe tbody tr th:only-of-type {\n",
       "        vertical-align: middle;\n",
       "    }\n",
       "\n",
       "    .dataframe tbody tr th {\n",
       "        vertical-align: top;\n",
       "    }\n",
       "\n",
       "    .dataframe thead th {\n",
       "        text-align: right;\n",
       "    }\n",
       "</style>\n",
       "<table border=\"1\" class=\"dataframe\">\n",
       "  <thead>\n",
       "    <tr style=\"text-align: right;\">\n",
       "      <th></th>\n",
       "      <th>user_id</th>\n",
       "      <th>event_dt</th>\n",
       "      <th>event_name</th>\n",
       "      <th>details</th>\n",
       "    </tr>\n",
       "  </thead>\n",
       "  <tbody>\n",
       "    <tr>\n",
       "      <th>0</th>\n",
       "      <td>E1BDDCE0DAFA2679</td>\n",
       "      <td>2020-12-07 20:22:03</td>\n",
       "      <td>purchase</td>\n",
       "      <td>99.99</td>\n",
       "    </tr>\n",
       "    <tr>\n",
       "      <th>1</th>\n",
       "      <td>7B6452F081F49504</td>\n",
       "      <td>2020-12-07 09:22:53</td>\n",
       "      <td>purchase</td>\n",
       "      <td>9.99</td>\n",
       "    </tr>\n",
       "    <tr>\n",
       "      <th>2</th>\n",
       "      <td>9CD9F34546DF254C</td>\n",
       "      <td>2020-12-07 12:59:29</td>\n",
       "      <td>purchase</td>\n",
       "      <td>4.99</td>\n",
       "    </tr>\n",
       "    <tr>\n",
       "      <th>3</th>\n",
       "      <td>96F27A054B191457</td>\n",
       "      <td>2020-12-07 04:02:40</td>\n",
       "      <td>purchase</td>\n",
       "      <td>4.99</td>\n",
       "    </tr>\n",
       "    <tr>\n",
       "      <th>4</th>\n",
       "      <td>1FD7660FDF94CA1F</td>\n",
       "      <td>2020-12-07 10:15:09</td>\n",
       "      <td>purchase</td>\n",
       "      <td>4.99</td>\n",
       "    </tr>\n",
       "  </tbody>\n",
       "</table>\n",
       "</div>"
      ],
      "text/plain": [
       "            user_id             event_dt event_name  details\n",
       "0  E1BDDCE0DAFA2679  2020-12-07 20:22:03   purchase    99.99\n",
       "1  7B6452F081F49504  2020-12-07 09:22:53   purchase     9.99\n",
       "2  9CD9F34546DF254C  2020-12-07 12:59:29   purchase     4.99\n",
       "3  96F27A054B191457  2020-12-07 04:02:40   purchase     4.99\n",
       "4  1FD7660FDF94CA1F  2020-12-07 10:15:09   purchase     4.99"
      ]
     },
     "metadata": {},
     "output_type": "display_data"
    },
    {
     "name": "stdout",
     "output_type": "stream",
     "text": [
      "\n",
      "- Пример данных из participants:\n"
     ]
    },
    {
     "data": {
      "text/html": [
       "<div>\n",
       "<style scoped>\n",
       "    .dataframe tbody tr th:only-of-type {\n",
       "        vertical-align: middle;\n",
       "    }\n",
       "\n",
       "    .dataframe tbody tr th {\n",
       "        vertical-align: top;\n",
       "    }\n",
       "\n",
       "    .dataframe thead th {\n",
       "        text-align: right;\n",
       "    }\n",
       "</style>\n",
       "<table border=\"1\" class=\"dataframe\">\n",
       "  <thead>\n",
       "    <tr style=\"text-align: right;\">\n",
       "      <th></th>\n",
       "      <th>user_id</th>\n",
       "      <th>group</th>\n",
       "      <th>ab_test</th>\n",
       "    </tr>\n",
       "  </thead>\n",
       "  <tbody>\n",
       "    <tr>\n",
       "      <th>0</th>\n",
       "      <td>D1ABA3E2887B6A73</td>\n",
       "      <td>A</td>\n",
       "      <td>recommender_system_test</td>\n",
       "    </tr>\n",
       "    <tr>\n",
       "      <th>1</th>\n",
       "      <td>A7A3664BD6242119</td>\n",
       "      <td>A</td>\n",
       "      <td>recommender_system_test</td>\n",
       "    </tr>\n",
       "    <tr>\n",
       "      <th>2</th>\n",
       "      <td>DABC14FDDFADD29E</td>\n",
       "      <td>A</td>\n",
       "      <td>recommender_system_test</td>\n",
       "    </tr>\n",
       "    <tr>\n",
       "      <th>3</th>\n",
       "      <td>04988C5DF189632E</td>\n",
       "      <td>A</td>\n",
       "      <td>recommender_system_test</td>\n",
       "    </tr>\n",
       "    <tr>\n",
       "      <th>4</th>\n",
       "      <td>482F14783456D21B</td>\n",
       "      <td>B</td>\n",
       "      <td>recommender_system_test</td>\n",
       "    </tr>\n",
       "  </tbody>\n",
       "</table>\n",
       "</div>"
      ],
      "text/plain": [
       "            user_id group                  ab_test\n",
       "0  D1ABA3E2887B6A73     A  recommender_system_test\n",
       "1  A7A3664BD6242119     A  recommender_system_test\n",
       "2  DABC14FDDFADD29E     A  recommender_system_test\n",
       "3  04988C5DF189632E     A  recommender_system_test\n",
       "4  482F14783456D21B     B  recommender_system_test"
      ]
     },
     "metadata": {},
     "output_type": "display_data"
    }
   ],
   "source": [
    "# Выведем образцы данных из каждого датасета для ознакомления\n",
    "print(\"Примеры данных:\")\n",
    "print(\"- Пример данных из marketing_events:\")\n",
    "display(marketing_events.head())\n",
    "print(\"\\n- Пример данных из new_users:\")\n",
    "display(new_users.head())\n",
    "print(\"\\n- Пример данных из events:\")\n",
    "display(events.head())\n",
    "print(\"\\n- Пример данных из participants:\")\n",
    "display(participants.head())"
   ]
  },
  {
   "cell_type": "markdown",
   "metadata": {},
   "source": [
    "## Предобработка данных"
   ]
  },
  {
   "cell_type": "code",
   "execution_count": 7,
   "metadata": {},
   "outputs": [
    {
     "name": "stdout",
     "output_type": "stream",
     "text": [
      "Количество значений с лишними пробелами в столбце 'region' new_users после удаления: 52578\n",
      "Количество значений с лишними пробелами в столбце 'device' new_users после удаления: 21683\n"
     ]
    }
   ],
   "source": [
    "# Удаление лишних пробелов из столбца 'region'\n",
    "new_users['region'] = new_users['region'].str.strip()\n",
    "\n",
    "# Удаление лишних пробелов из столбца 'device'\n",
    "new_users['device'] = new_users['device'].str.strip()\n",
    "\n",
    "# Проверка количества значений с лишними пробелами после удаления\n",
    "print(\"Количество значений с лишними пробелами в столбце 'region' new_users после удаления:\",\n",
    "      new_users['region'].str.len().lt(len('region')).sum())\n",
    "\n",
    "print(\"Количество значений с лишними пробелами в столбце 'device' new_users после удаления:\",\n",
    "      new_users['device'].str.len().lt(len('device')).sum())"
   ]
  },
  {
   "cell_type": "code",
   "execution_count": 8,
   "metadata": {},
   "outputs": [],
   "source": [
    "# Преобразование типов\n",
    "marketing_events['start_dt'] = pd.to_datetime(marketing_events['start_dt'])\n",
    "marketing_events['finish_dt'] = pd.to_datetime(marketing_events['finish_dt'])\n",
    "\n",
    "new_users['first_date'] = pd.to_datetime(new_users['first_date'])\n",
    "\n",
    "events['event_dt'] = pd.to_datetime(events['event_dt'])\n",
    "events['details'] = events['details'].astype(float)  # Переводим стоимость покупки в числовой формат"
   ]
  },
  {
   "cell_type": "code",
   "execution_count": 9,
   "metadata": {},
   "outputs": [
    {
     "name": "stdout",
     "output_type": "stream",
     "text": [
      "Пропущенные значения в marketing_events:\n",
      "name         0\n",
      "regions      0\n",
      "start_dt     0\n",
      "finish_dt    0\n",
      "dtype: int64\n",
      "\n",
      "Пропущенные значения в new_users:\n",
      "user_id       0\n",
      "first_date    0\n",
      "region        0\n",
      "device        0\n",
      "dtype: int64\n",
      "\n",
      "Пропущенные значения в events:\n",
      "user_id            0\n",
      "event_dt           0\n",
      "event_name         0\n",
      "details       377577\n",
      "dtype: int64\n",
      "\n",
      "Пропущенные значения в participants:\n",
      "user_id    0\n",
      "group      0\n",
      "ab_test    0\n",
      "dtype: int64\n"
     ]
    }
   ],
   "source": [
    "# Проверка на пропущенные значения\n",
    "print(\"Пропущенные значения в marketing_events:\")\n",
    "print(marketing_events.isnull().sum())\n",
    "\n",
    "print(\"\\nПропущенные значения в new_users:\")\n",
    "print(new_users.isnull().sum())\n",
    "\n",
    "print(\"\\nПропущенные значения в events:\")\n",
    "print(events.isnull().sum())\n",
    "\n",
    "print(\"\\nПропущенные значения в participants:\")\n",
    "print(participants.isnull().sum())"
   ]
  },
  {
   "cell_type": "code",
   "execution_count": 10,
   "metadata": {},
   "outputs": [
    {
     "name": "stdout",
     "output_type": "stream",
     "text": [
      "\n",
      "Количество дубликатов в marketing_events: 0\n",
      "Количество дубликатов в new_users: 0\n",
      "Количество дубликатов в events: 0\n",
      "Количество дубликатов в participants: 0\n"
     ]
    }
   ],
   "source": [
    "# Проверка на дубликаты\n",
    "print(\"\\nКоличество дубликатов в marketing_events:\", marketing_events.duplicated().sum())\n",
    "print(\"Количество дубликатов в new_users:\", new_users.duplicated().sum())\n",
    "print(\"Количество дубликатов в events:\", events.duplicated().sum())\n",
    "print(\"Количество дубликатов в participants:\", participants.duplicated().sum())"
   ]
  },
  {
   "cell_type": "code",
   "execution_count": 11,
   "metadata": {},
   "outputs": [
    {
     "name": "stdout",
     "output_type": "stream",
     "text": [
      "Информация о marketing_events:\n",
      "<class 'pandas.core.frame.DataFrame'>\n",
      "RangeIndex: 14 entries, 0 to 13\n",
      "Data columns (total 4 columns):\n",
      " #   Column     Non-Null Count  Dtype         \n",
      "---  ------     --------------  -----         \n",
      " 0   name       14 non-null     object        \n",
      " 1   regions    14 non-null     object        \n",
      " 2   start_dt   14 non-null     datetime64[ns]\n",
      " 3   finish_dt  14 non-null     datetime64[ns]\n",
      "dtypes: datetime64[ns](2), object(2)\n",
      "memory usage: 576.0+ bytes\n",
      "None\n",
      "\n",
      "Информация о new_users:\n",
      "<class 'pandas.core.frame.DataFrame'>\n",
      "RangeIndex: 61733 entries, 0 to 61732\n",
      "Data columns (total 4 columns):\n",
      " #   Column      Non-Null Count  Dtype         \n",
      "---  ------      --------------  -----         \n",
      " 0   user_id     61733 non-null  object        \n",
      " 1   first_date  61733 non-null  datetime64[ns]\n",
      " 2   region      61733 non-null  object        \n",
      " 3   device      61733 non-null  object        \n",
      "dtypes: datetime64[ns](1), object(3)\n",
      "memory usage: 1.9+ MB\n",
      "None\n",
      "\n",
      "Информация о events:\n",
      "<class 'pandas.core.frame.DataFrame'>\n",
      "RangeIndex: 440317 entries, 0 to 440316\n",
      "Data columns (total 4 columns):\n",
      " #   Column      Non-Null Count   Dtype         \n",
      "---  ------      --------------   -----         \n",
      " 0   user_id     440317 non-null  object        \n",
      " 1   event_dt    440317 non-null  datetime64[ns]\n",
      " 2   event_name  440317 non-null  object        \n",
      " 3   details     62740 non-null   float64       \n",
      "dtypes: datetime64[ns](1), float64(1), object(2)\n",
      "memory usage: 13.4+ MB\n",
      "None\n",
      "\n",
      "Информация о participants:\n",
      "<class 'pandas.core.frame.DataFrame'>\n",
      "RangeIndex: 18268 entries, 0 to 18267\n",
      "Data columns (total 3 columns):\n",
      " #   Column   Non-Null Count  Dtype \n",
      "---  ------   --------------  ----- \n",
      " 0   user_id  18268 non-null  object\n",
      " 1   group    18268 non-null  object\n",
      " 2   ab_test  18268 non-null  object\n",
      "dtypes: object(3)\n",
      "memory usage: 428.3+ KB\n",
      "None\n"
     ]
    }
   ],
   "source": [
    "print(\"Информация о marketing_events:\")\n",
    "print(marketing_events.info())\n",
    "print(\"\\nИнформация о new_users:\")\n",
    "print(new_users.info())\n",
    "print(\"\\nИнформация о events:\")\n",
    "print(events.info())\n",
    "print(\"\\nИнформация о participants:\")\n",
    "print(participants.info())"
   ]
  },
  {
   "cell_type": "code",
   "execution_count": 12,
   "metadata": {},
   "outputs": [
    {
     "name": "stdout",
     "output_type": "stream",
     "text": [
      "Сторонние тесты: ['interface_eu_test']\n"
     ]
    }
   ],
   "source": [
    "# Список всех уникальных тестов\n",
    "all_tests = participants['ab_test'].unique()\n",
    "\n",
    "# Находим тесты, отличные от исследуемого A/B-теста\n",
    "other_tests = [test for test in all_tests if test != 'recommender_system_test']\n",
    "\n",
    "print(\"Сторонние тесты:\", other_tests)"
   ]
  },
  {
   "cell_type": "code",
   "execution_count": 19,
   "metadata": {},
   "outputs": [
    {
     "name": "stdout",
     "output_type": "stream",
     "text": [
      "Количество пользователей после фильтрации: 50166\n",
      "Количество событий после фильтрации: 358390\n"
     ]
    }
   ],
   "source": [
    "start_date = pd.to_datetime('2020-12-07')\n",
    "end_date = pd.to_datetime('2021-01-04')\n",
    "\n",
    "# Получение списка пользователей стороннего теста\n",
    "external_test_users = participants[participants['ab_test'] == 'interface_eu_test']['user_id']\n",
    "\n",
    "# Фильтрация пользователей текущего теста\n",
    "filtered_new_users = new_users[\n",
    "    (new_users['first_date'] >= start_date) & \n",
    "    (new_users['first_date'] <= end_date) &\n",
    "    (~new_users['user_id'].isin(external_test_users)) #фильтруем пользователей, чьи идентификаторы НЕ содержатся в списке external_test_users,\n",
    "]\n",
    "\n",
    "# Фильтрация событий текущего теста\n",
    "filtered_events = events[\n",
    "    (events['event_dt'] >= start_date) & \n",
    "    (events['event_dt'] <= end_date) &\n",
    "    (events['user_id'].isin(filtered_new_users['user_id']))\n",
    "]\n",
    "\n",
    "print(\"Количество пользователей после фильтрации:\", len(filtered_new_users))\n",
    "print(\"Количество событий после фильтрации:\", len(filtered_events))"
   ]
  },
  {
   "cell_type": "markdown",
   "metadata": {},
   "source": [
    "## Проверка корректности проведения теста"
   ]
  },
  {
   "cell_type": "code",
   "execution_count": null,
   "metadata": {},
   "outputs": [],
   "source": [
    "# Определение переменных из технического задания\n",
    "expected_start_date = pd.to_datetime('2020-12-07')\n",
    "expected_end_date = pd.to_datetime('2021-01-04')\n",
    "expected_audience = 0.15  # 15% новых пользователей из региона EU\n",
    "expected_users = 6000\n",
    "\n",
    "# Проверка стартовой и конечной даты регистрации пользователей\n",
    "if (filtered_new_users['first_date'].min() >= expected_start_date) and (filtered_new_users['first_date'].max() <= expected_end_date):\n",
    "    print(\"Дата регистрации пользователей соответствует требованиям.\")\n",
    "else:\n",
    "    print(\"Дата регистрации пользователей не соответствует требованиям.\")\n",
    "\n",
    "# Проверка аудитории\n",
    "expected_audience_size = len(new_users) * expected_audience\n",
    "actual_audience_size = len(filtered_new_users)\n",
    "if abs(expected_audience_size - actual_audience_size) < 1:\n",
    "    print(\"Аудитория теста соответствует требованиям.\")\n",
    "else:\n",
    "    print(\"Аудитория теста не соответствует требованиям.\")\n",
    "\n",
    "# Проверка ожидаемого количества участников\n",
    "if len(participants) == expected_users:\n",
    "    print(\"Ожидаемое количество участников соответствует требованиям.\")\n",
    "else:\n",
    "    print(\"Ожидаемое количество участников не соответствует требованиям.\")\n"
   ]
  },
  {
   "cell_type": "code",
   "execution_count": null,
   "metadata": {},
   "outputs": [],
   "source": [
    "# Проверка пересечения с маркетинговыми событиями\n",
    "intersects_with_marketing = marketing_events[\n",
    "    (marketing_events['start_dt'] <= expected_end_date) &\n",
    "    (marketing_events['finish_dt'] >= expected_start_date)\n",
    "]\n",
    "\n",
    "if intersects_with_marketing.empty:\n",
    "    print(\"Тест не пересекается с маркетинговыми событиями.\")\n",
    "else:\n",
    "    display(\"Тест пересекается с маркетинговыми событиями:\", intersects_with_marketing)"
   ]
  },
  {
   "cell_type": "markdown",
   "metadata": {},
   "source": [
    "Исходя из вышеуказанных результатов проверок, можно сделать следующие выводы:\n",
    "\n",
    "- Дата регистрации пользователей соответствует требованиям.\n",
    "\n",
    "- Аудитория теста: Размер аудитории теста не соответствует ожидаемому. Возможно, ошибка в фильтрации новых пользователей или другие проблемы. Требуется пересмотреть и скорректировать этот аспект.\n",
    "\n",
    "- Ожидаемое количество участников: Количество участников не соответствует ожидаемому значению. Возможно, при формировании списка участников произошла ошибка или недоразумение. Следует повторно проверить и скорректировать этот аспект.\n",
    "\n",
    "- Пересечение с маркетинговыми событиями: Тест пересекается с несколькими маркетинговыми событиями, включая рождественскую акцию и лотерею. Это может повлиять на результаты теста, так как пользователи могли быть также затронуты другими активностями. Необходимо оценить влияние этих событий на результаты теста.\n",
    "\n",
    "В целом, на данном этапе можно сказать, что проведение теста имеет некоторые недоразумения и несоответствия требованиям."
   ]
  },
  {
   "cell_type": "markdown",
   "metadata": {},
   "source": [
    "## Исследовательский анализ данных."
   ]
  },
  {
   "cell_type": "markdown",
   "metadata": {},
   "source": [
    "- Количество событий на пользователя одинаково распределены в выборках?\n",
    "- Как число событий в выборках распределено по дням?\n",
    "- Как меняется конверсия в воронке в выборках на разных этапах?\n",
    "- Какие особенности данных нужно учесть, прежде чем приступать к A/B-тестированию?"
   ]
  },
  {
   "cell_type": "code",
   "execution_count": null,
   "metadata": {
    "scrolled": true
   },
   "outputs": [],
   "source": [
    "# Объединение данных пользователей и участников теста\n",
    "merged_data = filtered_events.merge(participants, on='user_id', how='inner')\n",
    "\n",
    "# Вычисление среднего количества событий на пользователя для каждой группы\n",
    "events_per_user_control = merged_data[merged_data['group'] == 'A'].groupby('user_id')['event_name'].count()\n",
    "events_per_user_variant = merged_data[merged_data['group'] == 'B'].groupby('user_id')['event_name'].count()\n",
    "\n",
    "mean_events_control = events_per_user_control.mean()\n",
    "mean_events_variant = events_per_user_variant.mean()\n",
    "\n",
    "print(\"Среднее количество событий на пользователя в контрольной группе:\", mean_events_control)\n",
    "print(\"Среднее количество событий на пользователя в вариантной группе:\", mean_events_variant)"
   ]
  },
  {
   "cell_type": "markdown",
   "metadata": {},
   "source": [
    "Из проведенного анализа среднего количества событий на пользователя в контрольной и вариантной группах можно сделать следующие выводы:\n",
    "\n",
    "В контрольной группе среднее количество событий на пользователя составляет приблизительно 5.72. В то же время, в вариантной группе это значение равно примерно 5.60. Таким образом, наблюдается небольшая разница в среднем количестве событий между двумя группами."
   ]
  },
  {
   "cell_type": "code",
   "execution_count": null,
   "metadata": {},
   "outputs": [],
   "source": [
    "# Вычисление числа событий по дням для каждой группы\n",
    "events_per_day_control = merged_data[merged_data['group'] == 'A'].groupby(merged_data['event_dt'].dt.date)['event_name'].count()\n",
    "events_per_day_variant = merged_data[merged_data['group'] == 'B'].groupby(merged_data['event_dt'].dt.date)['event_name'].count()\n",
    "\n",
    "# Вывод сводной статистики для числа событий в контрольной группе\n",
    "print(\"Сводная статистика для числа событий в контрольной группе:\")\n",
    "print(events_per_day_control.describe())\n",
    "\n",
    "# Вывод сводной статистики для числа событий в вариантной группе\n",
    "print(\"\\nСводная статистика для числа событий в вариантной группе:\")\n",
    "print(events_per_day_variant.describe())\n",
    "\n",
    "# Построение графиков распределения событий по дням для каждой группы\n",
    "plt.figure(figsize=(12, 6))\n",
    "plt.plot(events_per_day_control.index, events_per_day_control.values, label='Контрольная группа')\n",
    "plt.plot(events_per_day_variant.index, events_per_day_variant.values, label='Вариантная группа')\n",
    "plt.xlabel('Дата')\n",
    "plt.ylabel('Число событий')\n",
    "plt.title('Распределение числа событий по дням')\n",
    "plt.legend()\n",
    "plt.xticks(rotation=45)\n",
    "plt.tight_layout()\n",
    "plt.show()"
   ]
  },
  {
   "cell_type": "markdown",
   "metadata": {},
   "source": [
    "Исходя из сводной статистики для числа событий в контрольной и вариантной группах, можно сделать следующие выводы:\n",
    "\n",
    "Контрольная группа:\n",
    "\n",
    "- Количество наблюдений (событий): 14\n",
    "- Среднее количество событий на пользователя: около 2636\n",
    "- Стандартное отклонение: приблизительно 973\n",
    "- Минимальное количество событий на пользователя: 1375\n",
    "- Медиана (50-й перцентиль): 2757\n",
    "- 25-й перцентиль: 1646.5\n",
    "- 75-й перцентиль: 3463.5\n",
    "- Максимальное количество событий на пользователя: 4040\n",
    "\n",
    "Вариантная группа:\n",
    "\n",
    "- Количество наблюдений (событий): 14\n",
    "- Среднее количество событий на пользователя: около 2018\n",
    "- Стандартное отклонение: приблизительно 463\n",
    "- Минимальное количество событий на пользователя: 1402\n",
    "- Медиана (50-й перцентиль): 2217\n",
    "- 25-й перцентиль: 1523\n",
    "- 75-й перцентиль: 2343\n",
    "- Максимальное количество событий на пользователя: 2636\n",
    "\n",
    "Сравнивая сводные статистики для обеих групп, видно, что среднее количество событий на пользователя в контрольной группе выше, чем в вариантной группе. Стандартное отклонение также значительно выше в контрольной группе, что может указывать на большую вариативность данных."
   ]
  },
  {
   "cell_type": "code",
   "execution_count": null,
   "metadata": {},
   "outputs": [],
   "source": [
    "# Вычисление количества пользователей на каждом этапе воронки для каждой группы\n",
    "funnel_control = merged_data[merged_data['group'] == 'A'].groupby('event_name')['user_id'].nunique()\n",
    "funnel_variant = merged_data[merged_data['group'] == 'B'].groupby('event_name')['user_id'].nunique()\n",
    "\n",
    "# Вычисление конверсии для каждого этапа воронки для каждой группы\n",
    "conversion_control = funnel_control / funnel_control.iloc[0]\n",
    "conversion_variant = funnel_variant / funnel_variant.iloc[0]\n",
    "\n",
    "# Вывод сводной статистики\n",
    "print(\"Сводная статистика для числа пользователей на каждом этапе воронки (контрольная группа):\\n\", funnel_control)\n",
    "print(\"\\nСводная статистика для числа пользователей на каждом этапе воронки (вариантная группа):\\n\", funnel_variant)\n",
    "\n",
    "# Вывод конверсии\n",
    "print(\"\\nКонверсия в воронке (контрольная группа):\\n\", conversion_control)\n",
    "print(\"\\nКонверсия в воронке (вариантная группа):\\n\", conversion_variant)\n",
    "\n",
    "# Построение графиков конверсии в воронке для каждой группы\n",
    "plt.figure(figsize=(10, 6))\n",
    "plt.plot(conversion_control.index, conversion_control.values, label='Контрольная группа')\n",
    "plt.plot(conversion_variant.index, conversion_variant.values, label='Вариантная группа')\n",
    "plt.xlabel('Этап воронки')\n",
    "plt.ylabel('Конверсия')\n",
    "plt.title('Конверсия в воронке')\n",
    "plt.legend()\n",
    "plt.xticks(rotation=45)\n",
    "plt.tight_layout()\n",
    "plt.show()"
   ]
  },
  {
   "cell_type": "markdown",
   "metadata": {},
   "source": [
    "Исходя из проведенного анализа, мы получили следующие результаты:\n",
    "\n",
    "Сводная статистика для числа пользователей на каждом этапе воронки показывает, что в контрольной группе:\n",
    "\n",
    "- Количество пользователей на этапе \"login\" составляет 6453.\n",
    "- Количество пользователей на этапе \"product_cart\" составляет 2057.\n",
    "- Количество пользователей на этапе \"product_page\" составляет 4248.\n",
    "- Количество пользователей на этапе \"purchase\" составляет 2194.\n",
    "\n",
    "В вариантной группе:\n",
    "\n",
    "- Количество пользователей на этапе \"login\" составляет 5043.\n",
    "- Количество пользователей на этапе \"product_cart\" составляет 1645.\n",
    "- Количество пользователей на этапе \"product_page\" составляет 3217.\n",
    "- Количество пользователей на этапе \"purchase\" составляет 1621.\n",
    "\n",
    "Анализ конверсии в воронке позволяет нам сделать следующие выводы:\n",
    "\n",
    "- На первом этапе \"login\" конверсия составляет 100% для обеих групп, так как это стартовый этап.\n",
    "- На втором этапе \"product_cart\" конверсия в контрольной группе составляет примерно 31.88%, а в вариантной группе - около 32.62%.\n",
    "- На третьем этапе \"product_page\" конверсия в контрольной группе составляет примерно 65.83%, а в вариантной группе - около 63.79%.\n",
    "- На последнем этапе \"purchase\" конверсия в контрольной группе составляет примерно 34.00%, а в вариантной группе - около 32.14%.\n",
    "\n",
    "Исходя из анализа, мы видим, что на каждом последующем этапе воронки конверсия немного снижается как в контрольной, так и в вариантной группе. При этом, на всех этапах воронки конверсия в контрольной группе выше, чем в вариантной группе, хотя разница не слишком значительна."
   ]
  },
  {
   "cell_type": "markdown",
   "metadata": {},
   "source": [
    "**Для успешного A/B-тестирования важно учесть следующие особенности данных:**\n",
    "\n",
    "- Равномерное распределение пользователей по тестовым группам для более точного сравнения результатов.\n",
    "- Исключение пересечений с другими тестами и активностями, чтобы избежать искажений результатов.\n",
    "- Анализ статистической значимости результатов A/B-теста с помощью статистических тестов.\n",
    "- Оценка практической значимости изменений и их влияния на ключевые метрики бизнеса.\n",
    "- Учет сезонных, маркетинговых и других внешних факторов, которые могут повлиять на результаты теста."
   ]
  },
  {
   "cell_type": "markdown",
   "metadata": {},
   "source": [
    "## Оценка результатов A/B-тестирования"
   ]
  },
  {
   "cell_type": "markdown",
   "metadata": {},
   "source": [
    "- Что можно сказать про результаты A/B-тестирования?\n",
    "- Проверьте статистическую разницу долей z-критерием."
   ]
  },
  {
   "cell_type": "markdown",
   "metadata": {},
   "source": [
    "Для оценки результатов A/B-тестирования нам необходимо провести статистическую оценку различий между двумя группами с помощью z-критерия для разности долей. Этот анализ позволит определить, являются ли различия между контрольной и вариантной группами статистически значимыми.\n",
    "\n",
    "Для начала вспомним доли конверсий на каждом этапе воронки в обеих группах:\n",
    "\n",
    "Контрольная группа:\n",
    "\n",
    "- Доля конверсии на этапе \"product_cart\" в контрольной группе: 0.318766\n",
    "- Доля конверсии на этапе \"product_page\" в контрольной группе: 0.658298\n",
    "- Доля конверсии на этапе \"purchase\" в контрольной группе: 0.339997\n",
    "\n",
    "Вариантная группа:\n",
    "\n",
    "- Доля конверсии на этапе \"product_cart\" в вариантной группе: 0.326195\n",
    "- Доля конверсии на этапе \"product_page\" в вариантной группе: 0.637914\n",
    "- Доля конверсии на этапе \"purchase\" в вариантной группе: 0.321436"
   ]
  },
  {
   "cell_type": "markdown",
   "metadata": {},
   "source": [
    "**Теперь проведем статистическую оценку разницы долей между группами с помощью z-критерия для разности долей.**"
   ]
  },
  {
   "cell_type": "code",
   "execution_count": 17,
   "metadata": {},
   "outputs": [
    {
     "name": "stdout",
     "output_type": "stream",
     "text": [
      "Этап 1:\n",
      "P-значение: nan\n",
      "Статистически незначимая разница\n",
      "\n",
      "Этап 2:\n",
      "P-значение: 0.6307520860255911\n",
      "Статистически незначимая разница\n",
      "\n",
      "Этап 3:\n",
      "P-значение: 0.06755814558825712\n",
      "Статистически незначимая разница\n",
      "\n",
      "Этап 4:\n",
      "P-значение: 0.22886408207312514\n",
      "Статистически незначимая разница\n",
      "\n"
     ]
    }
   ],
   "source": [
    "# Количество пользователей и конверсий на каждом этапе воронки в контрольной группе\n",
    "control_users = [6453, 2057, 4248, 2194]\n",
    "control_conversions = [1.0, 0.318766, 0.658298, 0.339997]\n",
    "\n",
    "# Количество пользователей и конверсий на каждом этапе воронки в вариантной группе\n",
    "variant_users = [5043, 1645, 3217, 1621]\n",
    "variant_conversions = [1.0, 0.326195, 0.637914, 0.321436]\n",
    "\n",
    "alpha = 0.05  # Уровень значимости\n",
    "\n",
    "# Проведение z-теста для каждого этапа воронки\n",
    "for i in range(len(control_users)):\n",
    "    print(f\"Этап {i+1}:\")\n",
    "    z_stat, p_value = proportions_ztest([control_conversions[i] * control_users[i], variant_conversions[i] * variant_users[i]], [control_users[i], variant_users[i]])\n",
    "    p_values = [p_value]  # Список p-значений для множественной коррекции\n",
    "    reject, p_corrected, _, _ = multipletests(p_values, alpha=alpha, method='bonferroni')\n",
    "    adjusted_alpha = alpha / len(control_users)  # Применение поправки Бонферрони\n",
    "    print(f\"P-значение: {p_corrected[0]}\")\n",
    "    if p_corrected[0] < adjusted_alpha:\n",
    "        print(\"Статистически значимая разница\")\n",
    "    else:\n",
    "        print(\"Статистически незначимая разница\")\n",
    "    print()"
   ]
  },
  {
   "cell_type": "markdown",
   "metadata": {},
   "source": [
    "Полученные результаты говорят о том, что на всех этапах воронки разница между контрольной и вариантной группами не является статистически значимой. Это означает, что на основе проведенного анализа данных нельзя сделать вывод о том, что изменения в продукте (в данном случае рекомендательной системе) привели к статистически значимому увеличению или уменьшению конверсии на каком-либо этапе воронки."
   ]
  },
  {
   "cell_type": "markdown",
   "metadata": {},
   "source": [
    "## Выводы"
   ]
  },
  {
   "cell_type": "markdown",
   "metadata": {},
   "source": [
    "**Опишите выводы по этапу исследовательского анализа данных и по проведённой оценке результатов A/B-тестирования. Сделайте общее заключение о корректности проведения теста.**"
   ]
  },
  {
   "cell_type": "markdown",
   "metadata": {},
   "source": [
    "Итак, проведенный исследовательский анализ данных и оценка результатов A/B-тестирования позволяют сделать следующие выводы:\n",
    "\n",
    "**Исследовательский анализ данных:**\n",
    "\n",
    "- Дата регистрации пользователей соответствует требованиям.\n",
    "\n",
    "- Аудитория теста: Размер аудитории теста не соответствует ожидаемому. Это может быть следствием ошибок в фильтрации или других факторов. Требуется дополнительный анализ и корректировка для обеспечения корректности тестирования.\n",
    "\n",
    "- Ожидаемое количество участников: Наблюдается расхождение между ожидаемым и реальным количеством участников. Это может быть связано с ошибками при формировании списка участников. Необходимо тщательно пересмотреть этот аспект.\n",
    "\n",
    "- Пересечение с маркетинговыми событиями: Тест пересекается с другими маркетинговыми событиями, такими как рождественская акция и лотерея. Это может повлиять на результаты теста из-за воздействия других активностей на пользователей. Важно оценить, как это влияние может сказаться на результатах.\n",
    "\n",
    "**Оценка результатов A/B-тестирования:**\n",
    "\n",
    "В результате оценки результатов A/B-тестирования было получено следующее:\n",
    "\n",
    "- На каждом этапе воронки наблюдается незначительное снижение конверсии в вариантной группе по сравнению с контрольной. Однако эти различия не являются статистически значимыми, что означает, что изменения в рекомендательной системе не оказали значительного влияния на конверсию.\n",
    "\n",
    "- Сравнение сводных статистик показало, что количество событий на пользователя немного выше в контрольной группе. При этом стандартное отклонение также выше, что указывает на большую вариативность данных в контрольной группе.\n",
    "\n",
    "**Общее заключение:**\n",
    "\n",
    "На основе вышеизложенного, можно сделать вывод о том, что проведение теста имеет некоторые несоответствия требованиям и недоразумения, которые могли повлиять на результаты. Однако статистические проверки и анализ показали, что различия между контрольной и вариантной группами не являются статистически значимыми. Это означает, что изменения в рекомендательной системе, которые были внесены, скорее всего, не оказали существенного влияния на поведение пользователей.\n",
    "\n",
    "В целом, для более точной и объективной оценки результатов A/B-тестирования необходимо более внимательное внимание к деталям формирования групп и аудитории теста, а также проведение дополнительных анализов для исключения внешних факторов, которые могли повлиять на результаты."
   ]
  }
 ],
 "metadata": {
  "ExecuteTimeLog": [
   {
    "duration": 1645,
    "start_time": "2023-08-21T05:54:56.002Z"
   },
   {
    "duration": 1332,
    "start_time": "2023-08-21T05:55:06.567Z"
   },
   {
    "duration": 6,
    "start_time": "2023-08-21T05:55:30.627Z"
   },
   {
    "duration": 5,
    "start_time": "2023-08-21T05:55:51.650Z"
   },
   {
    "duration": 19,
    "start_time": "2023-08-21T05:56:21.819Z"
   },
   {
    "duration": 4,
    "start_time": "2023-08-21T06:03:00.090Z"
   },
   {
    "duration": 160,
    "start_time": "2023-08-21T06:05:02.299Z"
   },
   {
    "duration": 38,
    "start_time": "2023-08-21T06:08:25.556Z"
   },
   {
    "duration": 240,
    "start_time": "2023-08-21T06:08:30.824Z"
   },
   {
    "duration": 21,
    "start_time": "2023-08-21T06:09:26.757Z"
   },
   {
    "duration": 30,
    "start_time": "2023-08-21T06:09:48.484Z"
   },
   {
    "duration": 41,
    "start_time": "2023-08-21T06:10:14.666Z"
   },
   {
    "duration": 229,
    "start_time": "2023-08-21T06:10:39.607Z"
   },
   {
    "duration": 88,
    "start_time": "2023-08-21T06:11:08.135Z"
   },
   {
    "duration": 322,
    "start_time": "2023-08-21T06:11:24.174Z"
   },
   {
    "duration": 105,
    "start_time": "2023-08-21T06:11:41.307Z"
   },
   {
    "duration": 64,
    "start_time": "2023-08-21T06:11:54.494Z"
   },
   {
    "duration": 98,
    "start_time": "2023-08-21T06:16:06.834Z"
   },
   {
    "duration": 127,
    "start_time": "2023-08-21T06:16:16.901Z"
   },
   {
    "duration": 89,
    "start_time": "2023-08-21T06:16:31.222Z"
   },
   {
    "duration": 103,
    "start_time": "2023-08-21T06:19:12.611Z"
   },
   {
    "duration": 135,
    "start_time": "2023-08-21T06:22:33.913Z"
   },
   {
    "duration": 1246,
    "start_time": "2023-08-21T06:22:45.003Z"
   },
   {
    "duration": 793,
    "start_time": "2023-08-21T06:22:46.251Z"
   },
   {
    "duration": 7,
    "start_time": "2023-08-21T06:22:47.046Z"
   },
   {
    "duration": 165,
    "start_time": "2023-08-21T06:22:47.055Z"
   },
   {
    "duration": 6,
    "start_time": "2023-08-21T06:22:47.223Z"
   },
   {
    "duration": 63,
    "start_time": "2023-08-21T06:22:47.231Z"
   },
   {
    "duration": 145,
    "start_time": "2023-08-21T06:22:47.296Z"
   },
   {
    "duration": 124,
    "start_time": "2023-08-21T06:22:47.444Z"
   },
   {
    "duration": 193,
    "start_time": "2023-08-21T06:22:47.570Z"
   },
   {
    "duration": 81,
    "start_time": "2023-08-21T06:22:47.766Z"
   },
   {
    "duration": 280,
    "start_time": "2023-08-21T06:22:47.849Z"
   },
   {
    "duration": 92,
    "start_time": "2023-08-21T06:22:56.463Z"
   },
   {
    "duration": 118,
    "start_time": "2023-08-21T06:24:06.753Z"
   },
   {
    "duration": 5,
    "start_time": "2023-08-21T06:32:31.241Z"
   },
   {
    "duration": 9,
    "start_time": "2023-08-21T06:32:51.568Z"
   },
   {
    "duration": 13,
    "start_time": "2023-08-21T06:33:18.844Z"
   },
   {
    "duration": 28,
    "start_time": "2023-08-21T06:33:32.701Z"
   },
   {
    "duration": 7,
    "start_time": "2023-08-21T06:35:14.493Z"
   },
   {
    "duration": 1202,
    "start_time": "2023-08-21T06:35:22.308Z"
   },
   {
    "duration": 641,
    "start_time": "2023-08-21T06:35:23.512Z"
   },
   {
    "duration": 7,
    "start_time": "2023-08-21T06:35:24.155Z"
   },
   {
    "duration": 118,
    "start_time": "2023-08-21T06:35:24.164Z"
   },
   {
    "duration": 6,
    "start_time": "2023-08-21T06:35:24.285Z"
   },
   {
    "duration": 36,
    "start_time": "2023-08-21T06:35:24.292Z"
   },
   {
    "duration": 125,
    "start_time": "2023-08-21T06:35:24.330Z"
   },
   {
    "duration": 104,
    "start_time": "2023-08-21T06:35:24.457Z"
   },
   {
    "duration": 160,
    "start_time": "2023-08-21T06:35:24.563Z"
   },
   {
    "duration": 73,
    "start_time": "2023-08-21T06:35:24.726Z"
   },
   {
    "duration": 256,
    "start_time": "2023-08-21T06:35:24.800Z"
   },
   {
    "duration": 10,
    "start_time": "2023-08-21T06:35:25.058Z"
   },
   {
    "duration": 13,
    "start_time": "2023-08-21T06:35:25.070Z"
   },
   {
    "duration": 12,
    "start_time": "2023-08-21T06:35:25.087Z"
   },
   {
    "duration": 30,
    "start_time": "2023-08-21T06:35:25.102Z"
   },
   {
    "duration": 8,
    "start_time": "2023-08-21T06:36:24.907Z"
   },
   {
    "duration": 101,
    "start_time": "2023-08-21T08:50:31.358Z"
   },
   {
    "duration": 5,
    "start_time": "2023-08-21T08:50:44.773Z"
   },
   {
    "duration": 10,
    "start_time": "2023-08-21T08:50:59.801Z"
   },
   {
    "duration": 306,
    "start_time": "2023-08-21T08:51:20.133Z"
   },
   {
    "duration": 7,
    "start_time": "2023-08-21T08:51:32.050Z"
   },
   {
    "duration": 8,
    "start_time": "2023-08-21T08:51:45.370Z"
   },
   {
    "duration": 6,
    "start_time": "2023-08-21T13:33:14.677Z"
   },
   {
    "duration": 6,
    "start_time": "2023-08-21T13:37:04.837Z"
   },
   {
    "duration": 200,
    "start_time": "2023-08-21T13:38:28.140Z"
   },
   {
    "duration": 33,
    "start_time": "2023-08-21T13:38:44.763Z"
   },
   {
    "duration": 1402,
    "start_time": "2023-08-21T13:38:50.177Z"
   },
   {
    "duration": 767,
    "start_time": "2023-08-21T13:38:51.583Z"
   },
   {
    "duration": 6,
    "start_time": "2023-08-21T13:38:52.353Z"
   },
   {
    "duration": 151,
    "start_time": "2023-08-21T13:38:52.362Z"
   },
   {
    "duration": 5,
    "start_time": "2023-08-21T13:38:52.518Z"
   },
   {
    "duration": 61,
    "start_time": "2023-08-21T13:38:52.524Z"
   },
   {
    "duration": 108,
    "start_time": "2023-08-21T13:38:52.593Z"
   },
   {
    "duration": 153,
    "start_time": "2023-08-21T13:38:52.703Z"
   },
   {
    "duration": 88,
    "start_time": "2023-08-21T13:38:52.857Z"
   },
   {
    "duration": 307,
    "start_time": "2023-08-21T13:38:52.948Z"
   },
   {
    "duration": 119,
    "start_time": "2023-08-21T13:38:53.258Z"
   },
   {
    "duration": 122,
    "start_time": "2023-08-21T13:38:53.379Z"
   },
   {
    "duration": 11,
    "start_time": "2023-08-21T13:38:53.508Z"
   },
   {
    "duration": 184,
    "start_time": "2023-08-21T13:38:53.521Z"
   },
   {
    "duration": 0,
    "start_time": "2023-08-21T13:38:53.708Z"
   },
   {
    "duration": 0,
    "start_time": "2023-08-21T13:38:53.710Z"
   },
   {
    "duration": 0,
    "start_time": "2023-08-21T13:38:53.712Z"
   },
   {
    "duration": 0,
    "start_time": "2023-08-21T13:38:53.713Z"
   },
   {
    "duration": 0,
    "start_time": "2023-08-21T13:38:53.716Z"
   },
   {
    "duration": 36,
    "start_time": "2023-08-21T13:42:13.037Z"
   },
   {
    "duration": 31,
    "start_time": "2023-08-21T13:42:17.109Z"
   },
   {
    "duration": 11,
    "start_time": "2023-08-21T13:42:32.059Z"
   },
   {
    "duration": 35,
    "start_time": "2023-08-21T13:42:49.884Z"
   },
   {
    "duration": 2,
    "start_time": "2023-08-21T14:58:02.060Z"
   },
   {
    "duration": 59,
    "start_time": "2023-08-22T13:11:44.101Z"
   },
   {
    "duration": 1668,
    "start_time": "2023-08-22T13:12:03.130Z"
   },
   {
    "duration": 1436,
    "start_time": "2023-08-22T13:12:04.802Z"
   },
   {
    "duration": 6,
    "start_time": "2023-08-22T13:12:06.240Z"
   },
   {
    "duration": 131,
    "start_time": "2023-08-22T13:12:06.248Z"
   },
   {
    "duration": 11,
    "start_time": "2023-08-22T13:12:06.381Z"
   },
   {
    "duration": 40,
    "start_time": "2023-08-22T13:12:06.394Z"
   },
   {
    "duration": 849,
    "start_time": "2023-08-22T13:12:06.458Z"
   },
   {
    "duration": 0,
    "start_time": "2023-08-22T13:12:07.309Z"
   },
   {
    "duration": 0,
    "start_time": "2023-08-22T13:12:07.310Z"
   },
   {
    "duration": 0,
    "start_time": "2023-08-22T13:12:07.311Z"
   },
   {
    "duration": 0,
    "start_time": "2023-08-22T13:12:07.312Z"
   },
   {
    "duration": 0,
    "start_time": "2023-08-22T13:12:07.313Z"
   },
   {
    "duration": 0,
    "start_time": "2023-08-22T13:12:07.314Z"
   },
   {
    "duration": 567,
    "start_time": "2023-08-22T13:12:35.519Z"
   },
   {
    "duration": 1239,
    "start_time": "2023-08-22T13:13:18.211Z"
   },
   {
    "duration": 641,
    "start_time": "2023-08-22T13:13:19.454Z"
   },
   {
    "duration": 5,
    "start_time": "2023-08-22T13:13:20.097Z"
   },
   {
    "duration": 108,
    "start_time": "2023-08-22T13:13:20.104Z"
   },
   {
    "duration": 4,
    "start_time": "2023-08-22T13:13:20.214Z"
   },
   {
    "duration": 65,
    "start_time": "2023-08-22T13:13:20.220Z"
   },
   {
    "duration": 104,
    "start_time": "2023-08-22T13:13:20.287Z"
   },
   {
    "duration": 137,
    "start_time": "2023-08-22T13:13:20.394Z"
   },
   {
    "duration": 105,
    "start_time": "2023-08-22T13:13:20.533Z"
   },
   {
    "duration": 249,
    "start_time": "2023-08-22T13:13:20.640Z"
   },
   {
    "duration": 108,
    "start_time": "2023-08-22T13:13:20.891Z"
   },
   {
    "duration": 29,
    "start_time": "2023-08-22T13:13:21.001Z"
   },
   {
    "duration": 102,
    "start_time": "2023-08-22T13:13:21.032Z"
   },
   {
    "duration": 170,
    "start_time": "2023-08-22T13:16:52.309Z"
   },
   {
    "duration": 1142,
    "start_time": "2023-08-22T13:17:20.101Z"
   },
   {
    "duration": 712,
    "start_time": "2023-08-22T13:17:21.245Z"
   },
   {
    "duration": 10,
    "start_time": "2023-08-22T13:17:21.959Z"
   },
   {
    "duration": 150,
    "start_time": "2023-08-22T13:17:21.977Z"
   },
   {
    "duration": 6,
    "start_time": "2023-08-22T13:17:22.130Z"
   },
   {
    "duration": 60,
    "start_time": "2023-08-22T13:17:22.138Z"
   },
   {
    "duration": 111,
    "start_time": "2023-08-22T13:17:22.200Z"
   },
   {
    "duration": 150,
    "start_time": "2023-08-22T13:17:22.312Z"
   },
   {
    "duration": 65,
    "start_time": "2023-08-22T13:17:22.464Z"
   },
   {
    "duration": 254,
    "start_time": "2023-08-22T13:17:22.531Z"
   },
   {
    "duration": 102,
    "start_time": "2023-08-22T13:17:22.787Z"
   },
   {
    "duration": 28,
    "start_time": "2023-08-22T13:17:22.891Z"
   },
   {
    "duration": 150,
    "start_time": "2023-08-22T13:17:22.921Z"
   },
   {
    "duration": 8,
    "start_time": "2023-08-22T13:20:29.438Z"
   },
   {
    "duration": 9,
    "start_time": "2023-08-22T13:20:48.330Z"
   },
   {
    "duration": 11,
    "start_time": "2023-08-22T13:21:03.937Z"
   },
   {
    "duration": 1754,
    "start_time": "2023-08-22T13:30:58.920Z"
   },
   {
    "duration": 1589,
    "start_time": "2023-08-22T13:31:20.464Z"
   },
   {
    "duration": 1612,
    "start_time": "2023-08-22T13:32:17.017Z"
   },
   {
    "duration": 11,
    "start_time": "2023-08-22T13:33:26.046Z"
   },
   {
    "duration": 1144,
    "start_time": "2023-08-22T13:33:49.582Z"
   },
   {
    "duration": 635,
    "start_time": "2023-08-22T13:33:50.728Z"
   },
   {
    "duration": 14,
    "start_time": "2023-08-22T13:33:51.365Z"
   },
   {
    "duration": 108,
    "start_time": "2023-08-22T13:33:51.380Z"
   },
   {
    "duration": 4,
    "start_time": "2023-08-22T13:33:51.491Z"
   },
   {
    "duration": 61,
    "start_time": "2023-08-22T13:33:51.497Z"
   },
   {
    "duration": 96,
    "start_time": "2023-08-22T13:33:51.564Z"
   },
   {
    "duration": 143,
    "start_time": "2023-08-22T13:33:51.663Z"
   },
   {
    "duration": 84,
    "start_time": "2023-08-22T13:33:51.808Z"
   },
   {
    "duration": 246,
    "start_time": "2023-08-22T13:33:51.894Z"
   },
   {
    "duration": 93,
    "start_time": "2023-08-22T13:33:52.142Z"
   },
   {
    "duration": 44,
    "start_time": "2023-08-22T13:33:52.237Z"
   },
   {
    "duration": 8,
    "start_time": "2023-08-22T13:33:52.283Z"
   },
   {
    "duration": 15,
    "start_time": "2023-08-22T13:33:52.294Z"
   },
   {
    "duration": 1729,
    "start_time": "2023-08-22T13:33:52.311Z"
   },
   {
    "duration": 0,
    "start_time": "2023-08-22T13:33:54.042Z"
   },
   {
    "duration": 135,
    "start_time": "2023-08-22T13:35:56.751Z"
   },
   {
    "duration": 528,
    "start_time": "2023-08-22T13:36:25.009Z"
   },
   {
    "duration": 358,
    "start_time": "2023-08-22T13:36:48.308Z"
   },
   {
    "duration": 145,
    "start_time": "2023-08-22T13:37:26.879Z"
   },
   {
    "duration": 492,
    "start_time": "2023-08-22T13:38:06.811Z"
   },
   {
    "duration": 16,
    "start_time": "2023-08-22T13:39:45.073Z"
   },
   {
    "duration": 447,
    "start_time": "2023-08-22T13:42:02.540Z"
   },
   {
    "duration": 335,
    "start_time": "2023-08-22T13:45:58.978Z"
   },
   {
    "duration": 130,
    "start_time": "2023-08-22T13:56:37.684Z"
   },
   {
    "duration": 17,
    "start_time": "2023-08-22T13:56:58.742Z"
   },
   {
    "duration": 1417,
    "start_time": "2023-08-22T13:57:11.286Z"
   },
   {
    "duration": 0,
    "start_time": "2023-08-22T13:57:12.706Z"
   },
   {
    "duration": 0,
    "start_time": "2023-08-22T13:57:12.707Z"
   },
   {
    "duration": 0,
    "start_time": "2023-08-22T13:57:12.709Z"
   },
   {
    "duration": 0,
    "start_time": "2023-08-22T13:57:12.710Z"
   },
   {
    "duration": 0,
    "start_time": "2023-08-22T13:57:12.711Z"
   },
   {
    "duration": 0,
    "start_time": "2023-08-22T13:57:12.713Z"
   },
   {
    "duration": 0,
    "start_time": "2023-08-22T13:57:12.714Z"
   },
   {
    "duration": 0,
    "start_time": "2023-08-22T13:57:12.715Z"
   },
   {
    "duration": 0,
    "start_time": "2023-08-22T13:57:12.717Z"
   },
   {
    "duration": 0,
    "start_time": "2023-08-22T13:57:12.718Z"
   },
   {
    "duration": 0,
    "start_time": "2023-08-22T13:57:12.719Z"
   },
   {
    "duration": 0,
    "start_time": "2023-08-22T13:57:12.721Z"
   },
   {
    "duration": 0,
    "start_time": "2023-08-22T13:57:12.722Z"
   },
   {
    "duration": 0,
    "start_time": "2023-08-22T13:57:12.724Z"
   },
   {
    "duration": 11,
    "start_time": "2023-08-22T13:57:12.911Z"
   },
   {
    "duration": 14,
    "start_time": "2023-08-22T13:57:13.090Z"
   },
   {
    "duration": 14,
    "start_time": "2023-08-22T13:57:13.281Z"
   },
   {
    "duration": 11,
    "start_time": "2023-08-22T13:57:13.445Z"
   },
   {
    "duration": 14,
    "start_time": "2023-08-22T13:59:55.378Z"
   },
   {
    "duration": 1379,
    "start_time": "2023-08-22T14:00:07.488Z"
   },
   {
    "duration": 0,
    "start_time": "2023-08-22T14:00:08.869Z"
   },
   {
    "duration": 0,
    "start_time": "2023-08-22T14:00:08.870Z"
   },
   {
    "duration": 0,
    "start_time": "2023-08-22T14:00:08.873Z"
   },
   {
    "duration": 0,
    "start_time": "2023-08-22T14:00:08.875Z"
   },
   {
    "duration": 0,
    "start_time": "2023-08-22T14:00:08.876Z"
   },
   {
    "duration": 0,
    "start_time": "2023-08-22T14:00:08.877Z"
   },
   {
    "duration": 0,
    "start_time": "2023-08-22T14:00:08.880Z"
   },
   {
    "duration": 0,
    "start_time": "2023-08-22T14:00:08.880Z"
   },
   {
    "duration": 0,
    "start_time": "2023-08-22T14:00:08.881Z"
   },
   {
    "duration": 0,
    "start_time": "2023-08-22T14:00:08.881Z"
   },
   {
    "duration": 0,
    "start_time": "2023-08-22T14:00:08.882Z"
   },
   {
    "duration": 0,
    "start_time": "2023-08-22T14:00:08.883Z"
   },
   {
    "duration": 9,
    "start_time": "2023-08-22T14:00:09.007Z"
   },
   {
    "duration": 22,
    "start_time": "2023-08-22T14:00:09.149Z"
   },
   {
    "duration": 11,
    "start_time": "2023-08-22T14:00:09.380Z"
   },
   {
    "duration": 17,
    "start_time": "2023-08-22T14:00:09.448Z"
   },
   {
    "duration": 14,
    "start_time": "2023-08-22T14:00:09.501Z"
   },
   {
    "duration": 20,
    "start_time": "2023-08-22T14:00:09.541Z"
   },
   {
    "duration": 12,
    "start_time": "2023-08-22T14:04:08.690Z"
   },
   {
    "duration": 1335,
    "start_time": "2023-08-22T14:04:25.778Z"
   },
   {
    "duration": 0,
    "start_time": "2023-08-22T14:04:27.115Z"
   },
   {
    "duration": 0,
    "start_time": "2023-08-22T14:04:27.117Z"
   },
   {
    "duration": 0,
    "start_time": "2023-08-22T14:04:27.118Z"
   },
   {
    "duration": 0,
    "start_time": "2023-08-22T14:04:27.119Z"
   },
   {
    "duration": 0,
    "start_time": "2023-08-22T14:04:27.121Z"
   },
   {
    "duration": 0,
    "start_time": "2023-08-22T14:04:27.122Z"
   },
   {
    "duration": 0,
    "start_time": "2023-08-22T14:04:27.123Z"
   },
   {
    "duration": 0,
    "start_time": "2023-08-22T14:04:27.124Z"
   },
   {
    "duration": 0,
    "start_time": "2023-08-22T14:04:27.125Z"
   },
   {
    "duration": 0,
    "start_time": "2023-08-22T14:04:27.127Z"
   },
   {
    "duration": 0,
    "start_time": "2023-08-22T14:04:27.128Z"
   },
   {
    "duration": 0,
    "start_time": "2023-08-22T14:04:27.129Z"
   },
   {
    "duration": 0,
    "start_time": "2023-08-22T14:04:27.153Z"
   },
   {
    "duration": 0,
    "start_time": "2023-08-22T14:04:27.154Z"
   },
   {
    "duration": 0,
    "start_time": "2023-08-22T14:04:27.156Z"
   },
   {
    "duration": 0,
    "start_time": "2023-08-22T14:04:27.157Z"
   },
   {
    "duration": 0,
    "start_time": "2023-08-22T14:04:27.158Z"
   },
   {
    "duration": 0,
    "start_time": "2023-08-22T14:04:27.159Z"
   },
   {
    "duration": 12,
    "start_time": "2023-08-22T14:04:39.594Z"
   },
   {
    "duration": 14,
    "start_time": "2023-08-22T14:06:03.664Z"
   },
   {
    "duration": 1305,
    "start_time": "2023-08-22T14:06:11.122Z"
   },
   {
    "duration": 688,
    "start_time": "2023-08-22T14:06:12.428Z"
   },
   {
    "duration": 5,
    "start_time": "2023-08-22T14:06:13.118Z"
   },
   {
    "duration": 111,
    "start_time": "2023-08-22T14:06:13.124Z"
   },
   {
    "duration": 4,
    "start_time": "2023-08-22T14:06:13.238Z"
   },
   {
    "duration": 56,
    "start_time": "2023-08-22T14:06:13.243Z"
   },
   {
    "duration": 97,
    "start_time": "2023-08-22T14:06:13.300Z"
   },
   {
    "duration": 145,
    "start_time": "2023-08-22T14:06:13.399Z"
   },
   {
    "duration": 84,
    "start_time": "2023-08-22T14:06:13.546Z"
   },
   {
    "duration": 272,
    "start_time": "2023-08-22T14:06:13.632Z"
   },
   {
    "duration": 95,
    "start_time": "2023-08-22T14:06:13.906Z"
   },
   {
    "duration": 30,
    "start_time": "2023-08-22T14:06:14.002Z"
   },
   {
    "duration": 18,
    "start_time": "2023-08-22T14:06:14.052Z"
   },
   {
    "duration": 12,
    "start_time": "2023-08-22T14:06:14.072Z"
   },
   {
    "duration": 152,
    "start_time": "2023-08-22T14:06:14.086Z"
   },
   {
    "duration": 528,
    "start_time": "2023-08-22T14:06:14.240Z"
   },
   {
    "duration": 427,
    "start_time": "2023-08-22T14:06:14.771Z"
   },
   {
    "duration": 337,
    "start_time": "2023-08-22T14:06:15.200Z"
   },
   {
    "duration": 23,
    "start_time": "2023-08-22T14:06:15.552Z"
   },
   {
    "duration": 3,
    "start_time": "2023-08-22T14:08:38.101Z"
   },
   {
    "duration": 464,
    "start_time": "2023-08-22T14:09:08.275Z"
   },
   {
    "duration": 104,
    "start_time": "2023-08-22T14:12:53.414Z"
   },
   {
    "duration": 1218,
    "start_time": "2023-08-22T14:21:54.360Z"
   },
   {
    "duration": 629,
    "start_time": "2023-08-22T14:21:55.580Z"
   },
   {
    "duration": 6,
    "start_time": "2023-08-22T14:21:56.210Z"
   },
   {
    "duration": 109,
    "start_time": "2023-08-22T14:21:56.218Z"
   },
   {
    "duration": 4,
    "start_time": "2023-08-22T14:21:56.331Z"
   },
   {
    "duration": 46,
    "start_time": "2023-08-22T14:21:56.337Z"
   },
   {
    "duration": 117,
    "start_time": "2023-08-22T14:21:56.384Z"
   },
   {
    "duration": 162,
    "start_time": "2023-08-22T14:21:56.503Z"
   },
   {
    "duration": 59,
    "start_time": "2023-08-22T14:21:56.666Z"
   },
   {
    "duration": 264,
    "start_time": "2023-08-22T14:21:56.727Z"
   },
   {
    "duration": 119,
    "start_time": "2023-08-22T14:21:56.993Z"
   },
   {
    "duration": 43,
    "start_time": "2023-08-22T14:21:57.114Z"
   },
   {
    "duration": 9,
    "start_time": "2023-08-22T14:21:57.159Z"
   },
   {
    "duration": 30,
    "start_time": "2023-08-22T14:21:57.171Z"
   },
   {
    "duration": 143,
    "start_time": "2023-08-22T14:21:57.203Z"
   },
   {
    "duration": 518,
    "start_time": "2023-08-22T14:21:57.348Z"
   },
   {
    "duration": 396,
    "start_time": "2023-08-22T14:21:57.868Z"
   },
   {
    "duration": 12,
    "start_time": "2023-08-22T14:21:58.266Z"
   },
   {
    "duration": 70,
    "start_time": "2023-08-22T20:40:26.454Z"
   },
   {
    "duration": 1416,
    "start_time": "2023-08-22T20:40:41.363Z"
   },
   {
    "duration": 1189,
    "start_time": "2023-08-22T20:40:42.782Z"
   },
   {
    "duration": 6,
    "start_time": "2023-08-22T20:40:43.972Z"
   },
   {
    "duration": 100,
    "start_time": "2023-08-22T20:40:43.980Z"
   },
   {
    "duration": 7,
    "start_time": "2023-08-22T20:40:44.084Z"
   },
   {
    "duration": 67,
    "start_time": "2023-08-22T20:40:44.093Z"
   },
   {
    "duration": 94,
    "start_time": "2023-08-22T20:40:44.162Z"
   },
   {
    "duration": 127,
    "start_time": "2023-08-22T20:40:44.258Z"
   },
   {
    "duration": 68,
    "start_time": "2023-08-22T20:40:44.388Z"
   },
   {
    "duration": 285,
    "start_time": "2023-08-22T20:40:44.458Z"
   },
   {
    "duration": 73,
    "start_time": "2023-08-22T20:40:44.745Z"
   },
   {
    "duration": 66,
    "start_time": "2023-08-22T20:40:44.820Z"
   },
   {
    "duration": 6,
    "start_time": "2023-08-22T20:40:44.888Z"
   },
   {
    "duration": 40,
    "start_time": "2023-08-22T20:40:44.897Z"
   },
   {
    "duration": 35,
    "start_time": "2023-08-22T20:40:44.939Z"
   },
   {
    "duration": 179,
    "start_time": "2023-08-22T20:40:44.976Z"
   },
   {
    "duration": 528,
    "start_time": "2023-08-22T20:40:45.157Z"
   },
   {
    "duration": 413,
    "start_time": "2023-08-22T20:40:45.687Z"
   },
   {
    "duration": 13,
    "start_time": "2023-08-22T20:40:46.102Z"
   },
   {
    "duration": 5,
    "start_time": "2023-08-22T20:44:35.557Z"
   },
   {
    "duration": 88,
    "start_time": "2023-08-22T20:44:46.798Z"
   },
   {
    "duration": 88,
    "start_time": "2023-08-22T20:51:07.772Z"
   },
   {
    "duration": 7,
    "start_time": "2023-08-22T20:51:53.487Z"
   },
   {
    "duration": 6,
    "start_time": "2023-08-22T20:56:05.950Z"
   },
   {
    "duration": 9,
    "start_time": "2023-08-22T21:01:46.149Z"
   },
   {
    "duration": 93,
    "start_time": "2023-08-22T21:05:54.958Z"
   },
   {
    "duration": 89,
    "start_time": "2023-08-22T21:06:27.167Z"
   },
   {
    "duration": 117,
    "start_time": "2023-08-22T21:15:59.528Z"
   },
   {
    "duration": 1144,
    "start_time": "2023-08-22T21:16:13.643Z"
   },
   {
    "duration": 586,
    "start_time": "2023-08-22T21:16:14.790Z"
   },
   {
    "duration": 8,
    "start_time": "2023-08-22T21:16:15.377Z"
   },
   {
    "duration": 108,
    "start_time": "2023-08-22T21:16:15.386Z"
   },
   {
    "duration": 3,
    "start_time": "2023-08-22T21:16:15.496Z"
   },
   {
    "duration": 58,
    "start_time": "2023-08-22T21:16:15.501Z"
   },
   {
    "duration": 91,
    "start_time": "2023-08-22T21:16:15.561Z"
   },
   {
    "duration": 134,
    "start_time": "2023-08-22T21:16:15.654Z"
   },
   {
    "duration": 63,
    "start_time": "2023-08-22T21:16:15.789Z"
   },
   {
    "duration": 242,
    "start_time": "2023-08-22T21:16:15.854Z"
   },
   {
    "duration": 118,
    "start_time": "2023-08-22T21:16:16.098Z"
   },
   {
    "duration": 8,
    "start_time": "2023-08-22T21:16:16.218Z"
   },
   {
    "duration": 147,
    "start_time": "2023-08-22T21:16:16.229Z"
   },
   {
    "duration": 0,
    "start_time": "2023-08-22T21:16:16.379Z"
   },
   {
    "duration": 0,
    "start_time": "2023-08-22T21:16:16.381Z"
   },
   {
    "duration": 0,
    "start_time": "2023-08-22T21:16:16.382Z"
   },
   {
    "duration": 0,
    "start_time": "2023-08-22T21:16:16.384Z"
   },
   {
    "duration": 1,
    "start_time": "2023-08-22T21:16:16.385Z"
   },
   {
    "duration": 0,
    "start_time": "2023-08-22T21:16:16.388Z"
   },
   {
    "duration": 8,
    "start_time": "2023-08-22T21:16:21.704Z"
   },
   {
    "duration": 8,
    "start_time": "2023-08-22T21:17:33.296Z"
   },
   {
    "duration": 1167,
    "start_time": "2023-08-22T21:17:43.225Z"
   },
   {
    "duration": 577,
    "start_time": "2023-08-22T21:17:44.394Z"
   },
   {
    "duration": 5,
    "start_time": "2023-08-22T21:17:44.973Z"
   },
   {
    "duration": 93,
    "start_time": "2023-08-22T21:17:44.980Z"
   },
   {
    "duration": 4,
    "start_time": "2023-08-22T21:17:45.076Z"
   },
   {
    "duration": 41,
    "start_time": "2023-08-22T21:17:45.081Z"
   },
   {
    "duration": 90,
    "start_time": "2023-08-22T21:17:45.124Z"
   },
   {
    "duration": 166,
    "start_time": "2023-08-22T21:17:45.216Z"
   },
   {
    "duration": 52,
    "start_time": "2023-08-22T21:17:45.384Z"
   },
   {
    "duration": 215,
    "start_time": "2023-08-22T21:17:45.449Z"
   },
   {
    "duration": 96,
    "start_time": "2023-08-22T21:17:45.666Z"
   },
   {
    "duration": 4,
    "start_time": "2023-08-22T21:17:45.764Z"
   },
   {
    "duration": 110,
    "start_time": "2023-08-22T21:17:45.770Z"
   },
   {
    "duration": 0,
    "start_time": "2023-08-22T21:17:45.881Z"
   },
   {
    "duration": 0,
    "start_time": "2023-08-22T21:17:45.882Z"
   },
   {
    "duration": 0,
    "start_time": "2023-08-22T21:17:45.883Z"
   },
   {
    "duration": 0,
    "start_time": "2023-08-22T21:17:45.884Z"
   },
   {
    "duration": 0,
    "start_time": "2023-08-22T21:17:45.885Z"
   },
   {
    "duration": 0,
    "start_time": "2023-08-22T21:17:45.886Z"
   },
   {
    "duration": 9,
    "start_time": "2023-08-22T21:17:51.820Z"
   },
   {
    "duration": 9,
    "start_time": "2023-08-22T21:18:02.129Z"
   },
   {
    "duration": 120,
    "start_time": "2023-08-22T21:19:54.002Z"
   },
   {
    "duration": 12,
    "start_time": "2023-08-22T21:20:56.341Z"
   },
   {
    "duration": 21,
    "start_time": "2023-08-22T21:21:53.353Z"
   },
   {
    "duration": 106,
    "start_time": "2023-08-22T21:23:28.638Z"
   }
  ],
  "kernelspec": {
   "display_name": "Python 3 (ipykernel)",
   "language": "python",
   "name": "python3"
  },
  "language_info": {
   "codemirror_mode": {
    "name": "ipython",
    "version": 3
   },
   "file_extension": ".py",
   "mimetype": "text/x-python",
   "name": "python",
   "nbconvert_exporter": "python",
   "pygments_lexer": "ipython3",
   "version": "3.11.3"
  },
  "toc": {
   "base_numbering": 1,
   "nav_menu": {},
   "number_sections": true,
   "sideBar": true,
   "skip_h1_title": true,
   "title_cell": "Table of Contents",
   "title_sidebar": "Contents",
   "toc_cell": false,
   "toc_position": {},
   "toc_section_display": true,
   "toc_window_display": false
  }
 },
 "nbformat": 4,
 "nbformat_minor": 2
}
